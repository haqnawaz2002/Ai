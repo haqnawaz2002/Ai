{
 "cells": [
  {
   "cell_type": "markdown",
   "id": "1720ba70",
   "metadata": {},
   "source": [
    "Q1"
   ]
  },
  {
   "cell_type": "code",
   "execution_count": 99,
   "id": "e514139d",
   "metadata": {},
   "outputs": [],
   "source": [
    "# Make a dict.. of all map\n",
    "graph_with_weights = {\n",
    "    'Arad': [('Zerind', 75), ('Timisoara', 118), ('Sibiu', 140)],\n",
    "    'Bucharest': [('Fagaras', 211), ('Pitesti', 101), ('Giurgiu', 90), ('Urziceni', 85)],\n",
    "    'Craiova': [('Drobeta', 120), ('Rimnicu Vilcea', 146), ('Pitesti', 138)],\n",
    "    'Drobeta': [('Mehadia', 75), ('Craiova', 120)],\n",
    "    'Eforie': [('Hirsova', 86)],\n",
    "    'Fagaras': [('Sibiu', 99), ('Bucharest', 211)],\n",
    "    'Giurgiu': [('Bucharest', 90)],\n",
    "    'Hirsova': [('Urziceni', 98), ('Eforie', 86)],\n",
    "    'Iasi': [('Vaslui', 92), ('Neamt', 87)],\n",
    "    'Lugoj': [('Timisoara', 111), ('Mehadia', 70)],\n",
    "    'Mehadia': [('Lugoj', 70), ('Drobeta', 75)],\n",
    "    'Neamt': [('Iasi', 87)],\n",
    "    'Oradea': [('Zerind', 71), ('Sibiu', 151)],\n",
    "    'Pitesti': [('Rimnicu Vilcea', 97), ('Bucharest', 101), ('Craiova', 138)],\n",
    "    'Rimnicu Vilcea': [('Sibiu', 80), ('Pitesti', 97), ('Craiova', 146)],\n",
    "    'Sibiu': [('Arad', 140), ('Oradea', 151), ('Fagaras', 99), ('Rimnicu Vilcea', 80)],\n",
    "    'Timisoara': [('Arad', 118), ('Lugoj', 111)],\n",
    "    'Urziceni': [('Bucharest', 85), ('Hirsova', 98)],\n",
    "    'Vaslui': [('Iasi', 92), ('Urziceni', 142)],\n",
    "    'Zerind': [('Arad', 75), ('Oradea', 71)]\n",
    "}"
   ]
  },
  {
   "cell_type": "code",
   "execution_count": 100,
   "id": "209ffd8a",
   "metadata": {},
   "outputs": [],
   "source": [
    "from queue import Queue"
   ]
  },
  {
   "cell_type": "code",
   "execution_count": 101,
   "id": "57fbd603",
   "metadata": {},
   "outputs": [],
   "source": [
    "def bfs_with_weights(start, goal, graph):\n",
    "    \n",
    "    visited = set()\n",
    "    parent = {}\n",
    "    path_cost = {start: 0}\n",
    "    q = Queue()\n",
    "    q.put(start)\n",
    "    visited.add(start)\n",
    "    while not q.empty():   \n",
    "        city = q.get()   \n",
    "        if city == goal:     \n",
    "            path = [city]\n",
    "            path_weights = []\n",
    "            while path[-1] != start:\n",
    "                parent_node = parent[path[-1]]\n",
    "                for neighbor, weight in graph[parent_node]:\n",
    "                    if neighbor == path[-1]:\n",
    "                        path_weights.append({'weight': weight})\n",
    "                        break\n",
    "                path.append(parent_node)\n",
    "            path.reverse()\n",
    "            path_weights.reverse()\n",
    "            return path_weights, path\n",
    "        for neighbor, weight in graph[city]:\n",
    "            if neighbor not in visited:\n",
    "            \n",
    "                visited.add(neighbor)\n",
    "                q.put(neighbor)\n",
    "                parent[neighbor] = city\n",
    "                path_cost[neighbor] = path_cost[city] + weight\n",
    "    return 0\n"
   ]
  },
  {
   "cell_type": "code",
   "execution_count": 102,
   "id": "14961bcd",
   "metadata": {},
   "outputs": [],
   "source": [
    "def dfs_with_weights(start, goal, graph, visited=None):\n",
    "    if visited is None:\n",
    "        visited = []\n",
    "    path = [start]\n",
    "    if start == goal:\n",
    "        return [], []\n",
    "    for city, weight in graph[start]:\n",
    "        if city not in visited:\n",
    "            visited.append(city)\n",
    "            p, w = dfs_with_weights(city, goal, graph, visited)\n",
    "            if p is not None:\n",
    "                return [(start, city, weight)] + p , [weight] + w\n",
    "    return None , None"
   ]
  },
  {
   "cell_type": "code",
   "execution_count": 103,
   "id": "0a643e08",
   "metadata": {},
   "outputs": [
    {
     "name": "stdout",
     "output_type": "stream",
     "text": [
      "BFS path from Arad to Bucharest:\n",
      "[{'weight': 140}, {'weight': 99}, {'weight': 211}]\n",
      "['Arad', 'Sibiu', 'Fagaras', 'Bucharest']\n"
     ]
    }
   ],
   "source": [
    "print(\"BFS path from Arad to Bucharest:\")\n",
    "path_weights, path = bfs_with_weights('Arad', 'Bucharest', graph_with_weights)\n",
    "\n",
    "print(path_weights)\n",
    "print(path)"
   ]
  },
  {
   "cell_type": "code",
   "execution_count": 104,
   "id": "0c684a59",
   "metadata": {},
   "outputs": [
    {
     "name": "stdout",
     "output_type": "stream",
     "text": [
      "DFS path from Arad to Bucharest:\n",
      "[('Arad', 'Zerind', 75), ('Zerind', 'Arad', 75), ('Arad', 'Timisoara', 118), ('Timisoara', 'Lugoj', 111), ('Lugoj', 'Mehadia', 70), ('Mehadia', 'Drobeta', 75), ('Drobeta', 'Craiova', 120), ('Craiova', 'Rimnicu Vilcea', 146), ('Rimnicu Vilcea', 'Sibiu', 80), ('Sibiu', 'Fagaras', 99), ('Fagaras', 'Bucharest', 211)]\n",
      "[75, 75, 118, 111, 70, 75, 120, 146, 80, 99, 211]\n"
     ]
    }
   ],
   "source": [
    "print(\"DFS path from Arad to Bucharest:\")\n",
    "    \n",
    "path_weights, path = dfs_with_weights('Arad', 'Bucharest', graph_with_weights)\n",
    "\n",
    "\n",
    "print(path_weights)\n",
    "print(path)"
   ]
  },
  {
   "cell_type": "code",
   "execution_count": null,
   "id": "566e52b5",
   "metadata": {},
   "outputs": [],
   "source": []
  },
  {
   "cell_type": "code",
   "execution_count": null,
   "id": "c38c637d",
   "metadata": {},
   "outputs": [],
   "source": []
  }
 ],
 "metadata": {
  "kernelspec": {
   "display_name": "Python 3 (ipykernel)",
   "language": "python",
   "name": "python3"
  },
  "language_info": {
   "codemirror_mode": {
    "name": "ipython",
    "version": 3
   },
   "file_extension": ".py",
   "mimetype": "text/x-python",
   "name": "python",
   "nbconvert_exporter": "python",
   "pygments_lexer": "ipython3",
   "version": "3.9.7"
  }
 },
 "nbformat": 4,
 "nbformat_minor": 5
}
